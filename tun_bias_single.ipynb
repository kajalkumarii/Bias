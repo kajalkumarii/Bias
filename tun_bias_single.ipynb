{
 "cells": [
  {
   "cell_type": "code",
   "execution_count": null,
   "metadata": {},
   "outputs": [],
   "source": [
    "# Base modules\n",
    "\n",
    "from numpy import load\n",
    "import numpy as np\n",
    "from pathlib import Path\n",
    "\n",
    "# Import os & glob\n",
    "import os\n",
    "import glob\n",
    "\n",
    "# Import plot tools\n",
    "import matplotlib\n",
    "matplotlib.use('nbagg')\n",
    "import matplotlib.pyplot as plt\n",
    "import matplotlib.axes as axes\n",
    "from mpl_toolkits import mplot3d\n",
    "\n",
    "# Import data analysis tools\n",
    "from scipy.signal import savgol_filter\n",
    "from scipy import interpolate\n",
    "import pandas as pd\n",
    "from scipy.signal import find_peaks\n",
    "\n",
    "import seaborn as sns\n",
    "import matplotlib.gridspec as grid_spec\n",
    "\n",
    "from statsmodels.graphics import tsaplots\n",
    "import random\n",
    "\n",
    "# Import timing\n",
    "import time\n",
    "import natsort\n",
    "import itertools\n",
    "\n",
    "from sklearn.utils import shuffle\n",
    "\n",
    "import plotly.express as px\n",
    "from tqdm.notebook import tqdm\n",
    "\n",
    "%matplotlib widget"
   ]
  },
  {
   "cell_type": "code",
   "execution_count": null,
   "metadata": {},
   "outputs": [],
   "source": [
    "desired_cols = ['fishz', 'fishy', 'fishx','realtime']\n",
    "# read file\n",
    "df = pd.read_csv(\"/home/kkumari/PhD/fish-data/long-term-free-swim/01_T1_1b8cd8200e6211edb285003053fc6914_VR03.csv.gz\", usecols=desired_cols)\n",
    "# df= pd.read_csv(\"C:/PhD/long-term-free-swim/01_T1_1b8cd8200e6211edb285003053fc6914_VR03.csv.gz\", usecols=desired_cols)\n",
    "dfx= df"
   ]
  },
  {
   "cell_type": "code",
   "execution_count": null,
   "metadata": {},
   "outputs": [],
   "source": [
    "# #  get all files form folder with keyword 01\n",
    "# path = \"C:/PhD/17010223/long-term-free-swim/\"\n",
    "# all_files = glob.glob(os.path.join(path, \"01*.csv.gz\"))\n",
    "# #  concatenate all files\n",
    "# df = pd.concat((pd.read_csv(f, usecols=desired_cols) for f in all_files), ignore_index=True)\n",
    "# dfx= dfx.append(df, ignore_index=True)"
   ]
  },
  {
   "cell_type": "code",
   "execution_count": null,
   "metadata": {},
   "outputs": [],
   "source": [
    "zs = dfx[\"fishx\"].rolling(window=11, center=True).mean().interpolate(method=\"pad\")\n",
    "ys = dfx[\"fishy\"].rolling(window=11, center=True).mean().interpolate(method=\"pad\")\n",
    "xs = dfx[\"fishz\"].rolling(window=11, center=True).mean().interpolate(method=\"pad\")\n",
    "dx= xs.diff().interpolate(method='bfill')\n",
    "dy= ys.diff().interpolate(method='bfill')\n",
    "dz= zs.diff().interpolate(method='bfill')\n",
    "\n",
    "dfx[\"dx\"] = dx\n",
    "dfx[\"dy\"] = dy\n",
    "dfx[\"dz\"] = dz\n",
    "\n",
    "\n",
    "ddf=dfx"
   ]
  },
  {
   "cell_type": "code",
   "execution_count": null,
   "metadata": {},
   "outputs": [],
   "source": [
    "ddfs = ddf.diff(periods=1, axis=0)\n",
    "\n",
    "steps = np.sqrt(ddfs[\"fishx\"]**2 + ddfs[\"fishy\"]**2 + ddfs[\"fishz\"]**2)\n",
    "ddfs[\"steps\"] = steps"
   ]
  },
  {
   "cell_type": "code",
   "execution_count": null,
   "metadata": {},
   "outputs": [],
   "source": [
    "print('dx, dy, dz and steps quantiles')\n",
    "print(ddfs['fishx'].quantile(0.999))\n",
    "print(ddfs['fishy'].quantile(0.999))\n",
    "print(ddfs['fishz'].quantile(0.999))"
   ]
  },
  {
   "cell_type": "code",
   "execution_count": null,
   "metadata": {},
   "outputs": [],
   "source": [
    "max_stepsize = 0.02 #m : 1.5 body lengths between successive frames\n",
    "\n",
    "#... see where it happens...\n",
    "large_steps = ddfs['steps'] > max_stepsize\n",
    "count_large_steps = np.count_nonzero(large_steps)\n",
    "\n",
    "print('Number of steps above threshold:')\n",
    "print(count_large_steps)"
   ]
  },
  {
   "cell_type": "code",
   "execution_count": null,
   "metadata": {},
   "outputs": [],
   "source": [
    "w = 10 #frames (represents half the window for deletion)\n",
    "selected_columns = ['fishz', 'fishy', 'fishx']\n",
    "\n",
    "large_step_indices = large_steps[large_steps].index.values\n",
    "\n",
    "# print(large_step_indices)\n",
    "w = 10\n",
    "\n",
    "for i in range(0, count_large_steps):\n",
    "    lsi = large_step_indices[i]\n",
    "    ddf.loc[lsi-w:lsi+w, selected_columns] = np.nan"
   ]
  },
  {
   "cell_type": "code",
   "execution_count": null,
   "metadata": {},
   "outputs": [],
   "source": [
    "# cartesian to polar coodinates\n",
    "def cart2pol(x,y):\n",
    "    rho = np.sqrt(x**2 + y**2)\n",
    "    phi = np.arctan2(y,x)\n",
    "    return(rho, phi)\n",
    "\n",
    "# cartesian to spherical coordinates\n",
    "def cart2sph(x,y,z):\n",
    "    azimuth = np.arctan2(y,x)\n",
    "    elevation = np.arctan2(z, np.sqrt(x**2 + y**2))\n",
    "    R = np.sqrt(x**2 + y**2 + z**2)\n",
    "    return(azimuth, elevation, R)"
   ]
  },
  {
   "cell_type": "code",
   "execution_count": null,
   "metadata": {},
   "outputs": [],
   "source": [
    "selected_columns = ['fishz', 'fishy', 'fishx']\n",
    "err = 0.001 # accepted error\n",
    "\n",
    "# delete: z < - 0.09\n",
    "ddf.loc[ddf['fishz'] < - (0.09 + err), selected_columns] = np.nan\n",
    "\n",
    "# delete: z > 0\n",
    "ddf.loc[ddf['fishz'] > 0 + err, selected_columns] = np.nan"
   ]
  },
  {
   "cell_type": "code",
   "execution_count": null,
   "metadata": {},
   "outputs": [],
   "source": [
    "zoffset = 0.11\n",
    "\n",
    "# spherical coordinates calculation\n",
    "azimuth, elevation, R = cart2sph(ddf['fishx'], ddf['fishy'], ddf['fishz'] - zoffset)"
   ]
  },
  {
   "cell_type": "code",
   "execution_count": null,
   "metadata": {},
   "outputs": [],
   "source": [
    "selected_columns = ['fishz', 'fishy', 'fishx']\n",
    "err = 0.005 # accepted error\n",
    "\n",
    "# delete: z < - 0.09\n",
    "ddf.loc[ R > 0.2 + err, selected_columns] = np.nan\n",
    "\n",
    "# delete: z > 0\n",
    "ddf.loc[ R < 0.11 - err, selected_columns] = np.nan"
   ]
  },
  {
   "cell_type": "code",
   "execution_count": null,
   "metadata": {},
   "outputs": [],
   "source": [
    "# angle = np.arctan2(dfx['dy'], dfx['dx'])\n",
    "# dfx['angle'] = angle\n",
    "\n",
    "# angle_temp = np.arctan2(dfx[\"fishy\"], dfx[\"fishx\"])\n",
    "# dfx['angle_temp'] = angle_temp"
   ]
  },
  {
   "cell_type": "code",
   "execution_count": null,
   "metadata": {},
   "outputs": [],
   "source": [
    "# speed = np.sqrt(dfx['dx']**2 + dfx['dy']**2 + dfx['dz']**2)\n",
    "# dfx['speed'] = speed\n",
    "\n",
    "# speed_temp = np.sqrt(dfx[\"fishx\"]**2 + dfx[\"fishy\"]**2 + dfx[\"fishz\"]**2)\n",
    "# dfx['speed_temp'] = speed_temp"
   ]
  },
  {
   "cell_type": "code",
   "execution_count": null,
   "metadata": {},
   "outputs": [],
   "source": [
    "angle_wrappeds = np.arctan2(dy,dx)\n",
    "\n",
    "#angle unwrapped\n",
    "last = 0\n",
    "angles = []\n",
    "for i in range(0, len(dx)):\n",
    "    phi = np.arctan2(dy[i],dx[i])\n",
    "    while phi < last-np.pi: phi += 2*np.pi\n",
    "    while phi > last+np.pi: phi -= 2*np.pi\n",
    "    last = phi\n",
    "    angles.append(phi)\n",
    "\n",
    "angles = np.array(angles)"
   ]
  },
  {
   "cell_type": "code",
   "execution_count": null,
   "metadata": {},
   "outputs": [],
   "source": [
    "fHz = 100\n",
    "dt = 1/fHz\n",
    "velocity = np.sqrt(dx**2 + dy**2 + dz**2)/dt"
   ]
  },
  {
   "cell_type": "code",
   "execution_count": null,
   "metadata": {},
   "outputs": [],
   "source": [
    "#  plot velocity\n",
    "\n",
    "plt.figure(figsize=(10, 5))\n",
    "plt.plot(velocity)\n",
    "plt.xlabel('Time (s)')\n",
    "plt.ylabel('Velocity (m/s)')\n",
    "plt.title('Velocity')\n",
    "plt.show()\n"
   ]
  },
  {
   "cell_type": "code",
   "execution_count": null,
   "metadata": {},
   "outputs": [],
   "source": [
    "#  find peaks\n",
    "fHz= 100\n",
    "height= (0.1, 0.5)\n",
    "frames_btw_2bouts = round(fHz/5)\n",
    "bout_width = round(fHz/100)\n",
    "prominence = 0.08\n",
    "\n",
    "peaks, _ = find_peaks(velocity, height=height, distance=frames_btw_2bouts, width=bout_width, prominence=prominence)\n",
    "\n",
    "plt.figure(figsize=(10, 5))\n",
    "plt.plot(velocity)\n",
    "plt.plot(peaks, velocity[peaks], \".\")\n",
    "plt.xlabel('Time (s)')\n",
    "plt.ylabel('Velocity (m/s)')\n",
    "plt.title('Velocity')\n",
    "plt.show()\n"
   ]
  },
  {
   "cell_type": "code",
   "execution_count": null,
   "metadata": {},
   "outputs": [],
   "source": [
    "#  take angle at the peak\n",
    "angles_at_peaks = angles[peaks]\n",
    "\n",
    "# Normalize angles between -π and π\n",
    "angles_at_peaks_normalized = np.mod(angles_at_peaks, 2 * np.pi) - np.pi\n",
    "\n",
    "# Unwrap normalized angles\n",
    "angles_at_peaks_unwrapped = np.unwrap(angles_at_peaks_normalized)\n",
    "\n",
    "# Calculate differences between consecutive unwrapped angles\n",
    "angles_at_peaks_diff = np.diff(angles_at_peaks_unwrapped)\n",
    "\n",
    "# Apply modulo arithmetic to ensure range between -π and π\n",
    "angles_at_peaks_diff = np.mod(angles_at_peaks_diff + np.pi, 2 * np.pi) - np.pi\n"
   ]
  },
  {
   "cell_type": "code",
   "execution_count": null,
   "metadata": {},
   "outputs": [],
   "source": [
    "#  plot angle at the peak\n",
    "plt.figure(figsize=(10, 5))\n",
    "plt.plot(angles_at_peaks)\n",
    "plt.xlabel('Time (s)')\n",
    "plt.ylabel('Angle (rad)')\n",
    "plt.title('Angle at the peak')\n",
    "plt.show()"
   ]
  },
  {
   "cell_type": "code",
   "execution_count": null,
   "metadata": {},
   "outputs": [],
   "source": [
    "\n",
    "# make it in arn\n",
    "\n",
    "#  plot the difference between two consecutive angles\n",
    "plt.figure(figsize=(10, 5))\n",
    "plt.plot(angles_at_peaks_diff)\n",
    "plt.xlabel('Time (s)')\n",
    "plt.ylabel('Angle (rad)')\n",
    "plt.title('Angle at the peak')\n",
    "plt.show()\n",
    "    "
   ]
  },
  {
   "cell_type": "code",
   "execution_count": null,
   "metadata": {},
   "outputs": [],
   "source": [
    "#  Draw a histogram of the differences between consecutive angles\n",
    "plt.figure(figsize=(10, 5))\n",
    "plt.hist(angles_at_peaks_diff, bins=50)\n",
    "plt.xlabel('Angle (rad)')\n",
    "plt.ylabel('Count')\n",
    "plt.title('Histogram of the differences between consecutive angles')\n",
    "plt.show()\n"
   ]
  },
  {
   "cell_type": "code",
   "execution_count": null,
   "metadata": {},
   "outputs": [],
   "source": [
    "#  calculate the number of clockwise and counterclockwise turns\n",
    "#  get sequence of right and left turns as 1 and -1\n",
    "turns = np.sign(angles_at_peaks_diff)\n",
    "\n",
    "counterclockwise_turns = np.sum(angles_at_peaks_diff > 0)\n",
    "clockwise_turns = np.sum(angles_at_peaks_diff < 0)\n",
    "\n",
    "print('Number of counterclockwise turns: {}'.format(counterclockwise_turns))\n",
    "print('Number of clockwise turns: {}'.format(clockwise_turns))"
   ]
  },
  {
   "cell_type": "code",
   "execution_count": null,
   "metadata": {},
   "outputs": [],
   "source": [
    "#  calcculate probability of clockwise and counterclockwise turns\n",
    "probability_counterclockwise_turns = counterclockwise_turns / (counterclockwise_turns + clockwise_turns)\n",
    "probability_clockwise_turns = clockwise_turns / (counterclockwise_turns + clockwise_turns)\n",
    "\n",
    "print('Probability of counterclockwise turns: {}'.format(probability_counterclockwise_turns))\n",
    "print('Probability of clockwise turns: {}'.format(probability_clockwise_turns))\n"
   ]
  },
  {
   "cell_type": "code",
   "execution_count": null,
   "metadata": {},
   "outputs": [],
   "source": [
    "# summary of ddf\n",
    "print(ddf.describe())"
   ]
  },
  {
   "cell_type": "code",
   "execution_count": null,
   "metadata": {},
   "outputs": [],
   "source": [
    "from mpl_toolkits.mplot3d import Axes3D\n",
    "from matplotlib.animation import FuncAnimation\n",
    "\n",
    "# Create a 3D figure\n",
    "fig = plt.figure(figsize=(10, 10))\n",
    "ax = fig.add_subplot(111, projection='3d')\n",
    "\n",
    "# Define the data range for animation\n",
    "start_index = 6000\n",
    "end_index = 7000\n",
    "\n",
    "# Plot the initial state\n",
    "line, = ax.plot(ddf.fishx[start_index:end_index], ddf.fishy[start_index:end_index], ddf.fishz[start_index:end_index], '-')\n",
    "scatter = ax.scatter(ddf.fishx[start_index:end_index], ddf.fishy[start_index:end_index], ddf.fishz[start_index:end_index], c=turns[start_index:end_index], cmap='bwr')\n",
    "\n",
    "# Set labels and title\n",
    "ax.set_xlabel('x (m)')\n",
    "ax.set_ylabel('y (m)')\n",
    "ax.set_zlabel('z')\n",
    "ax.set_title('Trajectory')\n",
    "\n",
    "# Function to update the animation frames\n",
    "def update(frame):\n",
    "    # Update the trajectory line\n",
    "    line.set_data_3d(ddf.fishx[start_index:frame], ddf.fishy[start_index:frame], ddf.fishz[start_index:frame])\n",
    "    # Update the scatter plot\n",
    "    scatter._offsets3d = (ddf.fishx[start_index:frame], ddf.fishy[start_index:frame], ddf.fishz[start_index:frame])\n",
    "    scatter.set_array(turns[start_index:frame])\n",
    "    return line, scatter\n",
    "\n",
    "from matplotlib.animation import FFMpegWriter\n",
    "\n",
    "# Create the animation\n",
    "animation = FuncAnimation(fig, update, frames=range(start_index, end_index), interval=50, blit=True)\n",
    "\n",
    "# Set up the video writer\n",
    "writer = FFMpegWriter(fps=30)  # Adjust the frames per second (fps) as needed\n",
    "\n",
    "# Export the animation as a video file\n",
    "# animation.save('trajectory_animation.mp4', writer=writer)\n"
   ]
  },
  {
   "cell_type": "code",
   "execution_count": null,
   "metadata": {},
   "outputs": [],
   "source": [
    "import matplotlib.animation as animation\n",
    "import matplotlib.patches as mpatches\n",
    "\n",
    "fig, ax = plt.subplots()\n",
    "\n",
    "x = ddf.fishx[3000:4000].reset_index(drop=True)\n",
    "y = ddf.fishy[3000:4000].reset_index(drop=True)\n",
    "z= ddf.fishz[3000:4000].reset_index(drop=True)\n",
    "t = turns[3000:4000] # Assuming that turns is already set and of the same length\n",
    "\n",
    "sc = ax.scatter(x[0], y[0], c=t[0], cmap='bwr') # 'bwr' colormap for binary color\n",
    "plt.xlim(min(x), max(x))\n",
    "plt.ylim(min(y), max(y))\n",
    "\n",
    "# Create legend\n",
    "left_patch = mpatches.Patch(color='blue', label='Left')\n",
    "right_patch = mpatches.Patch(color='red', label='Right')\n",
    "plt.legend(handles=[left_patch, right_patch])\n",
    "\n",
    "def animate(i):\n",
    "    sc.set_offsets(np.c_[x[:i+1], y[:i+1]]) # Note: Adding 1 because Python slice does not include the stop index\n",
    "    sc.set_array(t[:i+1])\n",
    "    return sc,\n",
    "\n",
    "ani = animation.FuncAnimation(fig, animate, frames=len(x), interval=200, blit=True)\n",
    "\n",
    "# plt.show()\n",
    "\n",
    "\n"
   ]
  },
  {
   "cell_type": "code",
   "execution_count": null,
   "metadata": {},
   "outputs": [],
   "source": [
    "import numpy as np\n",
    "import matplotlib.pyplot as plt\n",
    "from mpl_toolkits.mplot3d import Axes3D\n",
    "import matplotlib.animation as animation\n",
    "from IPython.display import HTML\n",
    "\n",
    "# Define the bowl dimensions\n",
    "r = 0.18  # radius in meters\n",
    "h = 0.09  # height in meters (height of the bowl)\n",
    "shift = r - h  # the shift upward\n",
    "\n",
    "# Define resolution and range for theta and phi\n",
    "res = 100  # Increase resolution\n",
    "theta_range = np.linspace(0, 2.*np.pi, res)  # azimuthal angle\n",
    "phi_range = np.linspace(0, np.pi/2, res)  # polar angle\n",
    "\n",
    "# Define the x, y, and z coordinates for the bowl\n",
    "theta, phi = np.meshgrid(theta_range, phi_range)  \n",
    "x = r * np.sin(phi) * np.cos(theta)\n",
    "y = r * np.sin(phi) * np.sin(theta)\n",
    "z = shift + r * np.cos(phi)\n",
    "\n",
    "# Create the 3D figure\n",
    "fig = plt.figure(figsize=(10,10))\n",
    "ax = fig.add_subplot(111, projection='3d')\n",
    "\n",
    "# Plot the bowl\n",
    "ax.plot_surface(x, y, -z, color='b', alpha=0.3)  # The negative sign to make bowl face downwards\n",
    "\n",
    "# Setting equal aspect ratio for all axes\n",
    "# ax.set_box_aspect([1,1,1])\n",
    "\n",
    "# Setting z axis limits\n",
    "ax.set_zlim(-0.1, 0)\n",
    "\n",
    "# Create animation\n",
    "line, = ax.plot([], [], [], lw=2)\n",
    "\n",
    "def init():\n",
    "    ax.scatter(ddf.fishx[3000:4000], ddf.fishy[3000:4000], ddf.fishz[3000:4000], c=turns[3000:4000], cmap='bwr')\n",
    "    ax.set_xlabel('x (m)')\n",
    "    ax.set_ylabel('y (m)')\n",
    "    ax.set_zlabel('z (m)')\n",
    "    return line,\n",
    "\n",
    "def animate(i):\n",
    "    line.set_data(ddf.fishx[3000:3000+i], ddf.fishy[3000:3000+i])\n",
    "    line.set_3d_properties(ddf.fishz[3000:3000+i])\n",
    "    return line,\n",
    "\n",
    "ani = animation.FuncAnimation(fig, animate, init_func=init, frames=1000, interval=200, blit=True)\n",
    "\n",
    "# Convert the animation to HTML5 video\n",
    "# plt.show()\n"
   ]
  },
  {
   "cell_type": "code",
   "execution_count": null,
   "metadata": {},
   "outputs": [],
   "source": [
    "#  replace all -1 with 0 in turns\n",
    "turns[turns == -1] = 0\n",
    "print(turns)\n"
   ]
  },
  {
   "cell_type": "code",
   "execution_count": null,
   "metadata": {},
   "outputs": [],
   "source": [
    "#  calculate autocorrelation of the sequence of right and left turns\n",
    "autocorrelation = np.correlate(turns, turns, mode='full')\n",
    "\n",
    "# #  plot autocorrelation\n",
    "# plt.figure(figsize=(10, 5))\n",
    "# plt.plot(autocorrelation)\n",
    "# plt.xlabel('Time (s)')\n",
    "# plt.ylabel('Autocorrelation')\n",
    "# plt.title('Autocorrelation of the sequence of right and left turns')\n",
    "# plt.show()\n",
    "\n"
   ]
  },
  {
   "cell_type": "code",
   "execution_count": null,
   "metadata": {},
   "outputs": [],
   "source": [
    "def autocorr(x):\n",
    "    result = np.correlate(x, x, mode='full')\n",
    "    return result[result.size // 2:]\n",
    "\n",
    "autocorr_vals = autocorr(turns)\n",
    "\n",
    "# plt.figure(figsize=(10, 5))\n",
    "# plt.plot(autocorr_vals)\n",
    "# plt.title('Autocorrelation of turns')\n",
    "# plt.xlabel('Lag')\n",
    "# plt.ylabel('Autocorrelation')\n",
    "# plt.show()\n"
   ]
  },
  {
   "cell_type": "code",
   "execution_count": null,
   "metadata": {},
   "outputs": [],
   "source": [
    "from statsmodels.graphics.tsaplots import plot_acf\n",
    "plot_acf(turns, lags=100)\n",
    "# plt.show()"
   ]
  },
  {
   "cell_type": "code",
   "execution_count": null,
   "metadata": {},
   "outputs": [],
   "source": [
    "def streak_lengths(turns):\n",
    "    if len(turns) == 0:\n",
    "        return np.array([])  # return empty array for empty input\n",
    "\n",
    "    streaks = []\n",
    "    current_streak = 1  # start with a streak of 1\n",
    "\n",
    "    for i in range(1, len(turns)):\n",
    "        if turns[i] == turns[i - 1]:  # if current turn is same as previous\n",
    "            current_streak += 1  # increment streak count\n",
    "        else:  # if current turn is different\n",
    "            streaks.append(current_streak)  # add the streak to the list\n",
    "            current_streak = 1  # reset streak count\n",
    "\n",
    "    streaks.append(current_streak)  # add the last streak\n",
    "    return np.array(streaks)"
   ]
  },
  {
   "cell_type": "code",
   "execution_count": null,
   "metadata": {},
   "outputs": [],
   "source": [
    "turns = np.array(turns)"
   ]
  },
  {
   "cell_type": "code",
   "execution_count": null,
   "metadata": {},
   "outputs": [],
   "source": [
    "streaks = streak_lengths(turns)"
   ]
  },
  {
   "cell_type": "code",
   "execution_count": null,
   "metadata": {},
   "outputs": [],
   "source": [
    "# #  plot histogram of streaks\n",
    "# plt.figure(figsize=(10, 5))\n",
    "# plt.hist(streaks, bins=50)\n",
    "# plt.xlabel('Streak')\n",
    "# plt.ylabel('Count')\n",
    "# plt.title('Histogram of streaks')\n",
    "# plt.show()\n",
    "#  plot histogram of streaks\n",
    "plt.figure(figsize=(10, 5))\n",
    "n, bins, patches = plt.hist(streaks, bins=50)\n",
    "\n",
    "# Iterate over each patch (or rectangle)\n",
    "for count, patch in zip(n, patches):\n",
    "    height = patch.get_height()\n",
    "    plt.text(patch.get_x() + patch.get_width()/2, height + 0.05, str(int(count)), \n",
    "             ha='center', color='black')\n",
    "\n",
    "plt.xlabel('Streak')\n",
    "plt.ylabel('Count')\n",
    "plt.title('Histogram of streaks')\n",
    "# plt.show()\n",
    "\n"
   ]
  },
  {
   "cell_type": "code",
   "execution_count": null,
   "metadata": {},
   "outputs": [],
   "source": [
    "turnp= turns"
   ]
  },
  {
   "cell_type": "code",
   "execution_count": null,
   "metadata": {},
   "outputs": [],
   "source": [
    "#  replace 0 with -1 in turnp\n",
    "turnp[turnp == 0] = -1\n",
    "turnp[0:200]"
   ]
  },
  {
   "cell_type": "code",
   "execution_count": null,
   "metadata": {},
   "outputs": [],
   "source": [
    "# plot turnp[0:200] on a figure with 1 as red and -1 as blue\n",
    "plt.figure(figsize=(10, 5))\n",
    "plt.plot(turnp[0:200])\n",
    "# plt.show()                                                                                                    "
   ]
  },
  {
   "cell_type": "code",
   "execution_count": null,
   "metadata": {},
   "outputs": [],
   "source": [
    "#  plot angle at the peak over time in animation clockwise as red and counterclockwise as blue\n",
    "plt.figure(figsize=(10, 5))\n",
    "plt.scatter(ddf.fishx, ddf.fishy, c=turns, cmap='bwr')\n",
    "plt.xlabel('x (m)')\n",
    "plt.ylabel('y (m)')\n",
    "plt.title('Trajectory')\n",
    "# plt.show()"
   ]
  },
  {
   "cell_type": "code",
   "execution_count": null,
   "metadata": {},
   "outputs": [],
   "source": []
  },
  {
   "cell_type": "code",
   "execution_count": null,
   "metadata": {},
   "outputs": [],
   "source": []
  }
 ],
 "metadata": {
  "kernelspec": {
   "display_name": "Python 3",
   "language": "python",
   "name": "python3"
  },
  "language_info": {
   "codemirror_mode": {
    "name": "ipython",
    "version": 3
   },
   "file_extension": ".py",
   "mimetype": "text/x-python",
   "name": "python",
   "nbconvert_exporter": "python",
   "pygments_lexer": "ipython3",
   "version": "3.10.7"
  },
  "orig_nbformat": 4
 },
 "nbformat": 4,
 "nbformat_minor": 2
}
