{
 "cells": [
  {
   "cell_type": "code",
   "execution_count": null,
   "metadata": {},
   "outputs": [],
   "source": [
    "# Base modules\n",
    "\n",
    "from numpy import load\n",
    "import numpy as np\n",
    "from pathlib import Path\n",
    "\n",
    "# Import os & glob\n",
    "import os\n",
    "import glob\n",
    "\n",
    "# Import plot tools\n",
    "import matplotlib\n",
    "matplotlib.use('nbagg')\n",
    "import matplotlib.pyplot as plt\n",
    "import matplotlib.axes as axes\n",
    "from mpl_toolkits import mplot3d\n",
    "\n",
    "# Import data analysis tools\n",
    "from scipy.signal import savgol_filter\n",
    "from scipy import interpolate\n",
    "import pandas as pd\n",
    "from scipy.signal import find_peaks\n",
    "\n",
    "import seaborn as sns\n",
    "import matplotlib.gridspec as grid_spec\n",
    "\n",
    "from statsmodels.graphics import tsaplots\n",
    "import random\n",
    "\n",
    "# Import timing\n",
    "import time\n",
    "import natsort\n",
    "import itertools\n",
    "\n",
    "from sklearn.utils import shuffle\n",
    "\n",
    "import plotly.express as px\n",
    "from tqdm.notebook import tqdm\n",
    "\n",
    "%matplotlib widget"
   ]
  },
  {
   "cell_type": "code",
   "execution_count": null,
   "metadata": {},
   "outputs": [],
   "source": [
    "desired_cols = ['fishz', 'fishy', 'fishx','start_time', 'uuid', 'realtime']\n",
    "df = pd.read_csv(\"C:/PhD/17042023/long-term-free-swim/01_T1_1b8cd8200e6211edb285003053fc6914_VR03.csv.gz\", usecols=desired_cols)"
   ]
  },
  {
   "cell_type": "code",
   "execution_count": null,
   "metadata": {},
   "outputs": [],
   "source": [
    "zs = savgol_filter(df.fishz, 11, 1)#df[\"fishx\"].rolling(window=11, center=True).mean().interpolate(method=\"pad\")\n",
    "ys = savgol_filter(df.fishy, 11, 1)#df[\"fishy\"].rolling(window=11, center=True).mean().interpolate(method=\"pad\")\n",
    "xs = savgol_filter(df.fishx, 11, 1)#df[\"fishz\"].rolling(window=11, center=True).mean().interpolate(method=\"pad\")\n",
    "dx= np.diff(xs)#xs.diff().interpolate(method='bfill')\n",
    "dy= np.diff(ys)#ys.diff().interpolate(method='bfill')\n",
    "dz= np.diff(zs)#zs.diff().interpolate(method='bfill')\n",
    "\n",
    "# df[\"dx\"] = dx\n",
    "# df[\"dy\"] = dy\n",
    "# df[\"dz\"] = dz"
   ]
  },
  {
   "cell_type": "code",
   "execution_count": null,
   "metadata": {},
   "outputs": [],
   "source": [
    "#make 3d plot of fish position using fishx, fishy, fishz\n",
    "fig = plt.figure()\n",
    "ax = plt.axes(projection='3d')\n",
    "ax.plot3D(df['fishx'], df['fishy'], df['fishz'], 'gray')\n",
    "ax.set_xlabel('x')\n",
    "ax.set_ylabel('y')\n",
    "ax.set_zlabel('z')\n",
    "plt.show()\n"
   ]
  },
  {
   "cell_type": "code",
   "execution_count": null,
   "metadata": {},
   "outputs": [],
   "source": [
    "#make 3d plot of fish position using fishx, fishy, fishz\n",
    "fig = plt.figure()\n",
    "ax = plt.axes(projection='3d')\n",
    "ax.plot3D(dx, dy, dz)\n",
    "ax.set_xlabel('x')\n",
    "ax.set_ylabel('y')\n",
    "ax.set_zlabel('z')\n",
    "plt.show()\n"
   ]
  },
  {
   "cell_type": "code",
   "execution_count": null,
   "metadata": {},
   "outputs": [],
   "source": [
    "#plot fish position using fishx, fishy\n",
    "fig = plt.figure()\n",
    "ax = plt.axes()\n",
    "ax.plot(df['fishx'], df['fishy'], 'gray')\n",
    "ax.set_xlabel('x')\n",
    "ax.set_ylabel('y')\n",
    "plt.show()"
   ]
  },
  {
   "cell_type": "code",
   "execution_count": null,
   "metadata": {},
   "outputs": [],
   "source": [
    "#plot fish position using fishx, fishy\n",
    "fig = plt.figure()\n",
    "ax = plt.axes()\n",
    "ax.plot(dx, dy)\n",
    "ax.set_xlabel('x')\n",
    "ax.set_ylabel('y')\n",
    "plt.show()"
   ]
  },
  {
   "cell_type": "code",
   "execution_count": null,
   "metadata": {},
   "outputs": [],
   "source": [
    "angle = np.arctan2(dy, dx)\n",
    "\n",
    "angle_temp = np.arctan2(df[\"fishy\"], df[\"fishx\"])"
   ]
  },
  {
   "cell_type": "code",
   "execution_count": null,
   "metadata": {},
   "outputs": [],
   "source": [
    "exp_time = df['realtime']- df['realtime'][0]\n",
    "exp_time = exp_time/60\n",
    "exp_time"
   ]
  },
  {
   "cell_type": "code",
   "execution_count": null,
   "metadata": {},
   "outputs": [],
   "source": [
    "figure2 = plt.figure()\n",
    "# plot angle and time using sns\n",
    "sns.lineplot(x=exp_time, y=angle, color='black')\n",
    "sns.lineplot(x=exp_time, y=angle_temp, color='red')\n",
    "plt.xlabel('Time (min)')\n",
    "plt.ylabel('Angle (rad)')\n",
    "plt.show()\n"
   ]
  },
  {
   "cell_type": "code",
   "execution_count": null,
   "metadata": {},
   "outputs": [],
   "source": []
  },
  {
   "cell_type": "code",
   "execution_count": null,
   "metadata": {},
   "outputs": [],
   "source": [
    "#  plot histogram of angle\n",
    "figure3 = plt.figure()\n",
    "sns.histplot(df['angle'], kde=True)\n",
    "sns.histplot(angle_temp, kde=True)\n",
    "#add legend\n",
    "plt.legend({'angle': df['angle'].mean(), 'angle_temp': angle_temp.mean()})\n",
    "plt.show()"
   ]
  },
  {
   "cell_type": "code",
   "execution_count": null,
   "metadata": {},
   "outputs": [],
   "source": [
    "speed_temp = np.sqrt(df['fishx']**2 + df['fishy']**2 + df['fishz']**2)"
   ]
  },
  {
   "cell_type": "code",
   "execution_count": null,
   "metadata": {},
   "outputs": [],
   "source": [
    "\n",
    "# calculate speed\n",
    "fHz= 100 #fps\n",
    "dt = 1/fHz\n",
    "\n",
    "speed = np.sqrt(df['dx']**2 + df['dy']**2 + df['dz']**2)/dt\n",
    "df['speed'] = speed\n",
    "\n",
    "figure4 = plt.figure()\n",
    "# plot speed and time using sns\n",
    "sns.lineplot(x=df['exp_time'], y=df['speed'], data=df)\n",
    "sns.lineplot(x=df['exp_time'], y=speed_temp, data=df, color='red')\n",
    "# add legend\n",
    "plt.legend({'speed': df['speed'].mean(), 'speed_temp': speed_temp.mean()})\n",
    "plt.show()"
   ]
  },
  {
   "cell_type": "code",
   "execution_count": null,
   "metadata": {},
   "outputs": [],
   "source": [
    "# unwrap angle from -180 to 180\n",
    "ang_temp_int = []\n",
    "tmpx = 0\n",
    "\n",
    "for ii in range(int(1*(len(angle_temp)-1))):\n",
    "    tmpx += angle_temp[ii]\n",
    "    ang_temp_int.append(tmpx)\n",
    "\n",
    "angle_temp_unwrap = np.array(ang_temp_int)"
   ]
  },
  {
   "cell_type": "code",
   "execution_count": null,
   "metadata": {},
   "outputs": [],
   "source": [
    "# unwrap angle from -180 to 180\n",
    "ang_int = []\n",
    "tmp = 0\n",
    "\n",
    "for ii in range(int(1*(len(angle)-1))):\n",
    "    tmp += angle[ii]\n",
    "    ang_int.append(tmp)\n",
    "    \n",
    "angle_unwrap = np.array(ang_int)"
   ]
  },
  {
   "cell_type": "code",
   "execution_count": null,
   "metadata": {},
   "outputs": [],
   "source": [
    "# plot angle_temp_unwrap using matplotlib\n",
    "figure5 = plt.figure()\n",
    "plt.plot(angle_temp_unwrap, color='red')\n",
    "plt.plot(angle_unwrap)\n",
    "plt.show()\n",
    "\n"
   ]
  },
  {
   "cell_type": "code",
   "execution_count": null,
   "metadata": {},
   "outputs": [],
   "source": [
    "frames_btw_2bouts = round(fHz/5)\n",
    "bout_width = round(fHz/100)\n",
    "\n",
    "h = [0.02,0.3]\n",
    "\n",
    "# gets the indices at which if finds peaks\n",
    "peaks,_ = find_peaks(speed, height = h, distance = frames_btw_2bouts, prominence = 0.05)\n",
    "\n",
    "# get the values of phi only at burst events (discretization)\n",
    "angle_burst = angle[peaks]\n",
    "dangle = np.diff(angle_burst)\n",
    "dangle_centered = ((dangle + 2*np.pi)% 2*np.pi)- np.pi\n",
    "\n",
    "#  get the time of the burst events\n",
    "time_burst = df.exp_time[peaks]"
   ]
  },
  {
   "cell_type": "code",
   "execution_count": null,
   "metadata": {},
   "outputs": [],
   "source": [
    "# gets the indices at which if finds peaks\n",
    "peaks_temp,_ = find_peaks(speed_temp, height = h, distance = frames_btw_2bouts, prominence = 0.05)\n",
    "\n",
    "# get the values of phi only at burst events (discretization)\n",
    "angle_burst_temp = angle_temp[peaks_temp]\n",
    "dangle_temp = np.diff(angle_burst_temp)\n",
    "dangle_centered_temp = ((dangle_temp + 2*np.pi)% 2*np.pi)- np.pi\n",
    "\n",
    "#  get the time of the burst events\n",
    "time_burst_temp = df.exp_time[peaks_temp]"
   ]
  },
  {
   "cell_type": "code",
   "execution_count": null,
   "metadata": {},
   "outputs": [],
   "source": [
    "# plot peaks\n",
    "figure6 = plt.figure()\n",
    "# plt.plot(speed)\n",
    "plt.plot(peaks, speed[peaks], \"x\")\n",
    "# plt.plot(speed_temp)\n",
    "plt.plot(peaks_temp, speed_temp[peaks_temp], \"x\")\n",
    "plt.show()\n"
   ]
  },
  {
   "cell_type": "code",
   "execution_count": null,
   "metadata": {},
   "outputs": [],
   "source": [
    "dangle"
   ]
  },
  {
   "cell_type": "code",
   "execution_count": null,
   "metadata": {},
   "outputs": [],
   "source": [
    "direction = np.where(dangle > 0, 'left', 'right')\n",
    "unique, counts = np.unique(direction, return_counts=True)\n",
    "bias_ = dict(zip(unique, counts))\n",
    "right_bias = bias_['right'] / len(direction)\n",
    "left_bias = bias_['left'] / len(direction)\n",
    "print('Right bias:', right_bias)\n",
    "print('Left bias:', left_bias)"
   ]
  },
  {
   "cell_type": "code",
   "execution_count": null,
   "metadata": {},
   "outputs": [],
   "source": [
    "direction_temp = np.where(dangle_temp> 0, 'left', 'right')\n",
    "unique_temp, counts_temp = np.unique(direction_temp, return_counts=True)\n",
    "bias_temp = dict(zip(unique_temp, counts_temp))\n",
    "right_bias_temp = bias_temp['right'] / len(direction_temp)\n",
    "left_bias_temp = bias_temp['left'] / len(direction_temp)\n",
    "print('Right bias:', right_bias_temp)\n",
    "print('Left bias:', left_bias_temp)"
   ]
  },
  {
   "cell_type": "code",
   "execution_count": null,
   "metadata": {},
   "outputs": [],
   "source": [
    "turn_directions = direction\n",
    "turn_directions_temp = direction_temp"
   ]
  },
  {
   "cell_type": "code",
   "execution_count": null,
   "metadata": {},
   "outputs": [],
   "source": [
    "def calculate_turn_streak(turn_directions):\n",
    "    streak = 0\n",
    "    for direction in reversed(turn_directions):\n",
    "        if direction == \"right\" and streak % 2 == 0:\n",
    "            streak += 1\n",
    "        elif direction == \"left\" and streak % 2 == 1:\n",
    "            streak += 1\n",
    "        else:\n",
    "            break\n",
    "    return streak\n",
    "\n",
    "print ('Streak:', calculate_turn_streak(turn_directions))"
   ]
  },
  {
   "cell_type": "code",
   "execution_count": null,
   "metadata": {},
   "outputs": [],
   "source": [
    "#get sign of dangle_centered\n",
    "sign_dangle = np.sign(dangle_centered)\n",
    "sign_dangle_temp = np.sign(dangle_centered_temp)\n",
    "print(\"sign_dangle:\", sign_dangle)\n",
    "print(\"sign_dangle_temp:\", sign_dangle_temp)"
   ]
  },
  {
   "cell_type": "code",
   "execution_count": null,
   "metadata": {},
   "outputs": [],
   "source": [
    "#get streak length\n",
    "streak_length = []\n",
    "streak_length_temp = []\n",
    "streak = 0\n",
    "streak_temp = 0\n",
    "for ii in range(len(sign_dangle)):\n",
    "    if sign_dangle[ii] == 1:\n",
    "        streak += 1\n",
    "    else:\n",
    "        streak_length.append(streak)\n",
    "        streak = 0\n",
    "streak_length.append(streak)\n",
    "\n",
    "for ii in range(len(sign_dangle_temp)):\n",
    "    if sign_dangle_temp[ii] == 1:\n",
    "        streak_temp += 1\n",
    "    else:\n",
    "        streak_length_temp.append(streak_temp)\n",
    "        streak_temp = 0\n",
    "streak_length_temp.append(streak_temp)\n",
    "\n",
    "print(\"streak_length:\", streak_length)\n",
    "print(\"streak_length_temp:\", streak_length_temp)"
   ]
  },
  {
   "cell_type": "code",
   "execution_count": null,
   "metadata": {},
   "outputs": [],
   "source": [
    "#plot histogram of streak length using matplotlib\n",
    "figure7 = plt.figure()\n",
    "plt.hist(streak_length, bins=10)\n",
    "plt.hist(streak_length_temp, bins=10)\n",
    "plt.show()"
   ]
  },
  {
   "cell_type": "code",
   "execution_count": null,
   "metadata": {},
   "outputs": [],
   "source": []
  }
 ],
 "metadata": {
  "kernelspec": {
   "display_name": "Python 3",
   "language": "python",
   "name": "python3"
  },
  "language_info": {
   "codemirror_mode": {
    "name": "ipython",
    "version": 3
   },
   "file_extension": ".py",
   "mimetype": "text/x-python",
   "name": "python",
   "nbconvert_exporter": "python",
   "pygments_lexer": "ipython3",
   "version": "3.10.11"
  },
  "orig_nbformat": 4
 },
 "nbformat": 4,
 "nbformat_minor": 2
}
